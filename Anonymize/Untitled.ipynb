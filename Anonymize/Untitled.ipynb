{
 "cells": [
  {
   "cell_type": "code",
   "execution_count": 7,
   "id": "6a5addc3",
   "metadata": {},
   "outputs": [],
   "source": [
    "import pandas as pd\n",
    "from cryptography.fernet import Fernet"
   ]
  },
  {
   "cell_type": "markdown",
   "id": "44817209",
   "metadata": {},
   "source": [
    "# Criptografia Sinc com Fernet"
   ]
  },
  {
   "cell_type": "code",
   "execution_count": 15,
   "id": "993e7e78",
   "metadata": {},
   "outputs": [
    {
     "name": "stdout",
     "output_type": "stream",
     "text": [
      "b'aEuzXqVmlfG57wqlp6rYw6MHlE7KSaZ-eHsB4g6RVJc='\n"
     ]
    }
   ],
   "source": [
    "key = Fernet.generate_key()\n",
    "print(key)"
   ]
  },
  {
   "cell_type": "code",
   "execution_count": 16,
   "id": "64356bc3",
   "metadata": {},
   "outputs": [],
   "source": [
    "fn = Fernet(key)"
   ]
  },
  {
   "cell_type": "code",
   "execution_count": 22,
   "id": "4f449c0a",
   "metadata": {},
   "outputs": [
    {
     "name": "stdout",
     "output_type": "stream",
     "text": [
      "b'gAAAAABhtAaqNC4q6WQqojIaR9Nz0jhm-rFfCsXiAY_JMjaZwDwpYlRrlw6FuC0pJcYhbPn9XlqsbGe22RKge_JakmhZA0G16w=='\n"
     ]
    }
   ],
   "source": [
    "token = fn.encrypt(b\"Meu segredo\")\n",
    "print(token)"
   ]
  },
  {
   "cell_type": "code",
   "execution_count": 23,
   "id": "8589bfa5",
   "metadata": {},
   "outputs": [
    {
     "name": "stdout",
     "output_type": "stream",
     "text": [
      "b'Meu segredo'\n"
     ]
    }
   ],
   "source": [
    "desc = fn.decrypt(token)\n",
    "print(desc)"
   ]
  },
  {
   "cell_type": "code",
   "execution_count": 25,
   "id": "1a2a0e4f",
   "metadata": {},
   "outputs": [],
   "source": [
    "df = pd.read_csv('dataset.csv', delimiter=';')"
   ]
  },
  {
   "cell_type": "code",
   "execution_count": 26,
   "id": "dcc507a0",
   "metadata": {},
   "outputs": [
    {
     "data": {
      "text/html": [
       "<div>\n",
       "<style scoped>\n",
       "    .dataframe tbody tr th:only-of-type {\n",
       "        vertical-align: middle;\n",
       "    }\n",
       "\n",
       "    .dataframe tbody tr th {\n",
       "        vertical-align: top;\n",
       "    }\n",
       "\n",
       "    .dataframe thead th {\n",
       "        text-align: right;\n",
       "    }\n",
       "</style>\n",
       "<table border=\"1\" class=\"dataframe\">\n",
       "  <thead>\n",
       "    <tr style=\"text-align: right;\">\n",
       "      <th></th>\n",
       "      <th>Nome</th>\n",
       "      <th>E-mail</th>\n",
       "      <th>CPF</th>\n",
       "      <th>Endereço</th>\n",
       "      <th>CEP</th>\n",
       "      <th>Estado</th>\n",
       "      <th>Data Nascimento</th>\n",
       "    </tr>\n",
       "  </thead>\n",
       "  <tbody>\n",
       "    <tr>\n",
       "      <th>0</th>\n",
       "      <td>Augusto Vieira</td>\n",
       "      <td>cardosodavi-lucca@gmail.com</td>\n",
       "      <td>394.160.258-60</td>\n",
       "      <td>Alameda de Moreira, 370</td>\n",
       "      <td>59103-712</td>\n",
       "      <td>RS</td>\n",
       "      <td>21/06/1993</td>\n",
       "    </tr>\n",
       "    <tr>\n",
       "      <th>1</th>\n",
       "      <td>Erick Duarte</td>\n",
       "      <td>calebecastro@gmail.com</td>\n",
       "      <td>907.862.541-49</td>\n",
       "      <td>Fazenda de da Paz, 519</td>\n",
       "      <td>91372-831</td>\n",
       "      <td>MG</td>\n",
       "      <td>26/12/2012</td>\n",
       "    </tr>\n",
       "    <tr>\n",
       "      <th>2</th>\n",
       "      <td>Murilo Fogaça</td>\n",
       "      <td>acosta@bol.com.br</td>\n",
       "      <td>650.127.983-68</td>\n",
       "      <td>Viela Mariane Costela, 230</td>\n",
       "      <td>57328-451</td>\n",
       "      <td>AM</td>\n",
       "      <td>21/04/1972</td>\n",
       "    </tr>\n",
       "    <tr>\n",
       "      <th>3</th>\n",
       "      <td>Maria Alice Rezende</td>\n",
       "      <td>efarias@yahoo.com.br</td>\n",
       "      <td>274.653.801-62</td>\n",
       "      <td>Pátio Martins, 19</td>\n",
       "      <td>79394-246</td>\n",
       "      <td>PE</td>\n",
       "      <td>18/06/2006</td>\n",
       "    </tr>\n",
       "    <tr>\n",
       "      <th>4</th>\n",
       "      <td>Vitória Costa</td>\n",
       "      <td>santosesther@hotmail.com</td>\n",
       "      <td>748.592.016-20</td>\n",
       "      <td>Rodovia Jesus, 11</td>\n",
       "      <td>49595-407</td>\n",
       "      <td>ES</td>\n",
       "      <td>25/08/1989</td>\n",
       "    </tr>\n",
       "  </tbody>\n",
       "</table>\n",
       "</div>"
      ],
      "text/plain": [
       "                  Nome                       E-mail             CPF  \\\n",
       "0       Augusto Vieira  cardosodavi-lucca@gmail.com  394.160.258-60   \n",
       "1         Erick Duarte       calebecastro@gmail.com  907.862.541-49   \n",
       "2        Murilo Fogaça            acosta@bol.com.br  650.127.983-68   \n",
       "3  Maria Alice Rezende         efarias@yahoo.com.br  274.653.801-62   \n",
       "4        Vitória Costa     santosesther@hotmail.com  748.592.016-20   \n",
       "\n",
       "                     Endereço        CEP Estado Data Nascimento  \n",
       "0     Alameda de Moreira, 370  59103-712     RS      21/06/1993  \n",
       "1      Fazenda de da Paz, 519  91372-831     MG      26/12/2012  \n",
       "2  Viela Mariane Costela, 230  57328-451     AM      21/04/1972  \n",
       "3           Pátio Martins, 19  79394-246     PE      18/06/2006  \n",
       "4           Rodovia Jesus, 11  49595-407     ES      25/08/1989  "
      ]
     },
     "execution_count": 26,
     "metadata": {},
     "output_type": "execute_result"
    }
   ],
   "source": [
    "df.head()"
   ]
  },
  {
   "cell_type": "code",
   "execution_count": 28,
   "id": "04f91cb0",
   "metadata": {},
   "outputs": [],
   "source": [
    "df['CPF'] = df['CPF'].apply(lambda x: fn.encrypt(b\"x\"))"
   ]
  },
  {
   "cell_type": "code",
   "execution_count": 29,
   "id": "b5ed2f31",
   "metadata": {},
   "outputs": [
    {
     "data": {
      "text/html": [
       "<div>\n",
       "<style scoped>\n",
       "    .dataframe tbody tr th:only-of-type {\n",
       "        vertical-align: middle;\n",
       "    }\n",
       "\n",
       "    .dataframe tbody tr th {\n",
       "        vertical-align: top;\n",
       "    }\n",
       "\n",
       "    .dataframe thead th {\n",
       "        text-align: right;\n",
       "    }\n",
       "</style>\n",
       "<table border=\"1\" class=\"dataframe\">\n",
       "  <thead>\n",
       "    <tr style=\"text-align: right;\">\n",
       "      <th></th>\n",
       "      <th>Nome</th>\n",
       "      <th>E-mail</th>\n",
       "      <th>CPF</th>\n",
       "      <th>Endereço</th>\n",
       "      <th>CEP</th>\n",
       "      <th>Estado</th>\n",
       "      <th>Data Nascimento</th>\n",
       "    </tr>\n",
       "  </thead>\n",
       "  <tbody>\n",
       "    <tr>\n",
       "      <th>0</th>\n",
       "      <td>Augusto Vieira</td>\n",
       "      <td>cardosodavi-lucca@gmail.com</td>\n",
       "      <td>b'gAAAAABhtAcwBuXPaJqr6cfbVeO6UdLxr_fdVmbbW-9E...</td>\n",
       "      <td>Alameda de Moreira, 370</td>\n",
       "      <td>59103-712</td>\n",
       "      <td>RS</td>\n",
       "      <td>21/06/1993</td>\n",
       "    </tr>\n",
       "    <tr>\n",
       "      <th>1</th>\n",
       "      <td>Erick Duarte</td>\n",
       "      <td>calebecastro@gmail.com</td>\n",
       "      <td>b'gAAAAABhtAcwg_-UITVOGwxw8C7YRPIowH8UDX7buA_3...</td>\n",
       "      <td>Fazenda de da Paz, 519</td>\n",
       "      <td>91372-831</td>\n",
       "      <td>MG</td>\n",
       "      <td>26/12/2012</td>\n",
       "    </tr>\n",
       "    <tr>\n",
       "      <th>2</th>\n",
       "      <td>Murilo Fogaça</td>\n",
       "      <td>acosta@bol.com.br</td>\n",
       "      <td>b'gAAAAABhtAcwpQ90617CdIpmrMjvTCO7ld0i2oS30kpg...</td>\n",
       "      <td>Viela Mariane Costela, 230</td>\n",
       "      <td>57328-451</td>\n",
       "      <td>AM</td>\n",
       "      <td>21/04/1972</td>\n",
       "    </tr>\n",
       "    <tr>\n",
       "      <th>3</th>\n",
       "      <td>Maria Alice Rezende</td>\n",
       "      <td>efarias@yahoo.com.br</td>\n",
       "      <td>b'gAAAAABhtAcw0vGd81dZFrsCpW71Dg38pKV4RJma7lxF...</td>\n",
       "      <td>Pátio Martins, 19</td>\n",
       "      <td>79394-246</td>\n",
       "      <td>PE</td>\n",
       "      <td>18/06/2006</td>\n",
       "    </tr>\n",
       "    <tr>\n",
       "      <th>4</th>\n",
       "      <td>Vitória Costa</td>\n",
       "      <td>santosesther@hotmail.com</td>\n",
       "      <td>b'gAAAAABhtAcwgMa4cEZqob1Edr0y40hy_a3Qh8mj3mxU...</td>\n",
       "      <td>Rodovia Jesus, 11</td>\n",
       "      <td>49595-407</td>\n",
       "      <td>ES</td>\n",
       "      <td>25/08/1989</td>\n",
       "    </tr>\n",
       "  </tbody>\n",
       "</table>\n",
       "</div>"
      ],
      "text/plain": [
       "                  Nome                       E-mail  \\\n",
       "0       Augusto Vieira  cardosodavi-lucca@gmail.com   \n",
       "1         Erick Duarte       calebecastro@gmail.com   \n",
       "2        Murilo Fogaça            acosta@bol.com.br   \n",
       "3  Maria Alice Rezende         efarias@yahoo.com.br   \n",
       "4        Vitória Costa     santosesther@hotmail.com   \n",
       "\n",
       "                                                 CPF  \\\n",
       "0  b'gAAAAABhtAcwBuXPaJqr6cfbVeO6UdLxr_fdVmbbW-9E...   \n",
       "1  b'gAAAAABhtAcwg_-UITVOGwxw8C7YRPIowH8UDX7buA_3...   \n",
       "2  b'gAAAAABhtAcwpQ90617CdIpmrMjvTCO7ld0i2oS30kpg...   \n",
       "3  b'gAAAAABhtAcw0vGd81dZFrsCpW71Dg38pKV4RJma7lxF...   \n",
       "4  b'gAAAAABhtAcwgMa4cEZqob1Edr0y40hy_a3Qh8mj3mxU...   \n",
       "\n",
       "                     Endereço        CEP Estado Data Nascimento  \n",
       "0     Alameda de Moreira, 370  59103-712     RS      21/06/1993  \n",
       "1      Fazenda de da Paz, 519  91372-831     MG      26/12/2012  \n",
       "2  Viela Mariane Costela, 230  57328-451     AM      21/04/1972  \n",
       "3           Pátio Martins, 19  79394-246     PE      18/06/2006  \n",
       "4           Rodovia Jesus, 11  49595-407     ES      25/08/1989  "
      ]
     },
     "execution_count": 29,
     "metadata": {},
     "output_type": "execute_result"
    }
   ],
   "source": [
    "df.head()"
   ]
  },
  {
   "cell_type": "markdown",
   "id": "31703898",
   "metadata": {},
   "source": [
    "# Criptografia Assimetrica com RSA"
   ]
  },
  {
   "cell_type": "code",
   "execution_count": 30,
   "id": "660b5a8a",
   "metadata": {},
   "outputs": [],
   "source": [
    "from cryptography.hazmat.primitives.asymmetric import rsa"
   ]
  },
  {
   "cell_type": "code",
   "execution_count": 31,
   "id": "c6ad37b9",
   "metadata": {},
   "outputs": [],
   "source": [
    "private_key = rsa.generate_private_key(\n",
    "\n",
    "    public_exponent=65537,\n",
    "\n",
    "    key_size=2048,\n",
    "\n",
    ")"
   ]
  },
  {
   "cell_type": "code",
   "execution_count": 33,
   "id": "ae1cf79f",
   "metadata": {},
   "outputs": [
    {
     "data": {
      "text/plain": [
       "<cryptography.hazmat.backends.openssl.rsa._RSAPrivateKey at 0x113dfba60>"
      ]
     },
     "execution_count": 33,
     "metadata": {},
     "output_type": "execute_result"
    }
   ],
   "source": [
    "private_key"
   ]
  },
  {
   "cell_type": "code",
   "execution_count": 36,
   "id": "e25726f8",
   "metadata": {},
   "outputs": [],
   "source": [
    "public_key = private_key.public_key()"
   ]
  },
  {
   "cell_type": "code",
   "execution_count": 37,
   "id": "80eb0aa4",
   "metadata": {},
   "outputs": [
    {
     "name": "stdout",
     "output_type": "stream",
     "text": [
      "<cryptography.hazmat.backends.openssl.rsa._RSAPublicKey object at 0x114092460>\n"
     ]
    }
   ],
   "source": [
    "print(public_key)"
   ]
  },
  {
   "cell_type": "code",
   "execution_count": 38,
   "id": "02cb6e6d",
   "metadata": {},
   "outputs": [],
   "source": [
    "from cryptography.hazmat.primitives import hashes\n",
    "from cryptography.hazmat.primitives.asymmetric import padding"
   ]
  },
  {
   "cell_type": "code",
   "execution_count": 39,
   "id": "e91163d2",
   "metadata": {},
   "outputs": [],
   "source": [
    "message = b\"Meu segredo\""
   ]
  },
  {
   "cell_type": "code",
   "execution_count": 40,
   "id": "9e6d1be5",
   "metadata": {},
   "outputs": [],
   "source": [
    "ciphertext = public_key.encrypt(\n",
    "\n",
    "    message,\n",
    "\n",
    "    padding.OAEP(\n",
    "\n",
    "        mgf=padding.MGF1(algorithm=hashes.SHA256()),\n",
    "\n",
    "        algorithm=hashes.SHA256(),\n",
    "\n",
    "        label=None\n",
    "\n",
    "    )\n",
    "\n",
    ")"
   ]
  },
  {
   "cell_type": "code",
   "execution_count": 41,
   "id": "02658d1e",
   "metadata": {},
   "outputs": [
    {
     "name": "stdout",
     "output_type": "stream",
     "text": [
      "b'5\\x90\\xdf\\xc3\\x9c\\'U\\x9f\\xfe|\\xf8\\xcdr\\xfc;\\xf7}\\xb2@5\\x0b$H\\x00$k\\x12\\x10R\\x11X\\xa3f\\xd0\\x1e\\x8bh\\xb9p\\x9d\\x86\\x9a\\xe2\\xf7\\xd0\\t\\x940G\\xdaB\\xcdD\\x1c<u\\x16\\x02\\xd7\\xab\\x8ba>\\xa95\"O\\x1b\\x05\\xdf\\x02xc\\xe0\\x83\\x821<\\xe5\\x06\\xf2qz\\xc8oY\\x1e\\x0b\\xbc\\xc2s\\x9b-n\\xa7\\x94\\xc8\\xf7\\x9e\\x9d\\xc2\\xa4\\xbfN \\xedx\\x93\\xe8`\\x1fG\\x0c\\x92\\x92i\\xe2\\xac\\x08-\\x02S\\x18q\\xb7^\\xbb\\x9cO\\x95\\x0e\\xa4B\\xbd,\\xba\\x17\\x8e\\xf4E\\x9dl:w\\xf4\\xb0\\xb5F\\x94x\\xe8\\x7f\\xbe\\xe1X\\xe2ta/T\\xb1\\xd2x\\xc9oL9\\x14\\xb5\\x15\\xe6\\xe1\\x12l\\x9b\\x88\\xf4\\xcf\\x86\\xa3PU\\x13WrB\\xa0#[\\x8c)\\xfd\\xdf\\xb3\\xf3%{\\x7f\\xd0\\xfd\\xe0\\xd8\\xe9U\\x97\\x99@\\x01\\x97j\\xceM\\xfb\\x04\\x90\\x17\\x98\\xcb\\x92\\xba\\x93FI\\x95\\xa8D\\xdcq:VG\"4\\xb1r%\\\\\\x06y\\xac\\x8e\\xe6\\xe7f\\xc0\\xb9!\\xc8\\x00_3;\\x08\\xb4\"k'\n"
     ]
    }
   ],
   "source": [
    "print(ciphertext)"
   ]
  },
  {
   "cell_type": "code",
   "execution_count": 43,
   "id": "43f2947d",
   "metadata": {},
   "outputs": [
    {
     "data": {
      "text/html": [
       "<div>\n",
       "<style scoped>\n",
       "    .dataframe tbody tr th:only-of-type {\n",
       "        vertical-align: middle;\n",
       "    }\n",
       "\n",
       "    .dataframe tbody tr th {\n",
       "        vertical-align: top;\n",
       "    }\n",
       "\n",
       "    .dataframe thead th {\n",
       "        text-align: right;\n",
       "    }\n",
       "</style>\n",
       "<table border=\"1\" class=\"dataframe\">\n",
       "  <thead>\n",
       "    <tr style=\"text-align: right;\">\n",
       "      <th></th>\n",
       "      <th>Nome</th>\n",
       "      <th>E-mail</th>\n",
       "      <th>CPF</th>\n",
       "      <th>Endereço</th>\n",
       "      <th>CEP</th>\n",
       "      <th>Estado</th>\n",
       "      <th>Data Nascimento</th>\n",
       "    </tr>\n",
       "  </thead>\n",
       "  <tbody>\n",
       "    <tr>\n",
       "      <th>0</th>\n",
       "      <td>Augusto Vieira</td>\n",
       "      <td>cardosodavi-lucca@gmail.com</td>\n",
       "      <td>b'gAAAAABhtAcwBuXPaJqr6cfbVeO6UdLxr_fdVmbbW-9E...</td>\n",
       "      <td>Alameda de Moreira, 370</td>\n",
       "      <td>59103-712</td>\n",
       "      <td>RS</td>\n",
       "      <td>21/06/1993</td>\n",
       "    </tr>\n",
       "    <tr>\n",
       "      <th>1</th>\n",
       "      <td>Erick Duarte</td>\n",
       "      <td>calebecastro@gmail.com</td>\n",
       "      <td>b'gAAAAABhtAcwg_-UITVOGwxw8C7YRPIowH8UDX7buA_3...</td>\n",
       "      <td>Fazenda de da Paz, 519</td>\n",
       "      <td>91372-831</td>\n",
       "      <td>MG</td>\n",
       "      <td>26/12/2012</td>\n",
       "    </tr>\n",
       "    <tr>\n",
       "      <th>2</th>\n",
       "      <td>Murilo Fogaça</td>\n",
       "      <td>acosta@bol.com.br</td>\n",
       "      <td>b'gAAAAABhtAcwpQ90617CdIpmrMjvTCO7ld0i2oS30kpg...</td>\n",
       "      <td>Viela Mariane Costela, 230</td>\n",
       "      <td>57328-451</td>\n",
       "      <td>AM</td>\n",
       "      <td>21/04/1972</td>\n",
       "    </tr>\n",
       "    <tr>\n",
       "      <th>3</th>\n",
       "      <td>Maria Alice Rezende</td>\n",
       "      <td>efarias@yahoo.com.br</td>\n",
       "      <td>b'gAAAAABhtAcw0vGd81dZFrsCpW71Dg38pKV4RJma7lxF...</td>\n",
       "      <td>Pátio Martins, 19</td>\n",
       "      <td>79394-246</td>\n",
       "      <td>PE</td>\n",
       "      <td>18/06/2006</td>\n",
       "    </tr>\n",
       "    <tr>\n",
       "      <th>4</th>\n",
       "      <td>Vitória Costa</td>\n",
       "      <td>santosesther@hotmail.com</td>\n",
       "      <td>b'gAAAAABhtAcwgMa4cEZqob1Edr0y40hy_a3Qh8mj3mxU...</td>\n",
       "      <td>Rodovia Jesus, 11</td>\n",
       "      <td>49595-407</td>\n",
       "      <td>ES</td>\n",
       "      <td>25/08/1989</td>\n",
       "    </tr>\n",
       "  </tbody>\n",
       "</table>\n",
       "</div>"
      ],
      "text/plain": [
       "                  Nome                       E-mail  \\\n",
       "0       Augusto Vieira  cardosodavi-lucca@gmail.com   \n",
       "1         Erick Duarte       calebecastro@gmail.com   \n",
       "2        Murilo Fogaça            acosta@bol.com.br   \n",
       "3  Maria Alice Rezende         efarias@yahoo.com.br   \n",
       "4        Vitória Costa     santosesther@hotmail.com   \n",
       "\n",
       "                                                 CPF  \\\n",
       "0  b'gAAAAABhtAcwBuXPaJqr6cfbVeO6UdLxr_fdVmbbW-9E...   \n",
       "1  b'gAAAAABhtAcwg_-UITVOGwxw8C7YRPIowH8UDX7buA_3...   \n",
       "2  b'gAAAAABhtAcwpQ90617CdIpmrMjvTCO7ld0i2oS30kpg...   \n",
       "3  b'gAAAAABhtAcw0vGd81dZFrsCpW71Dg38pKV4RJma7lxF...   \n",
       "4  b'gAAAAABhtAcwgMa4cEZqob1Edr0y40hy_a3Qh8mj3mxU...   \n",
       "\n",
       "                     Endereço        CEP Estado Data Nascimento  \n",
       "0     Alameda de Moreira, 370  59103-712     RS      21/06/1993  \n",
       "1      Fazenda de da Paz, 519  91372-831     MG      26/12/2012  \n",
       "2  Viela Mariane Costela, 230  57328-451     AM      21/04/1972  \n",
       "3           Pátio Martins, 19  79394-246     PE      18/06/2006  \n",
       "4           Rodovia Jesus, 11  49595-407     ES      25/08/1989  "
      ]
     },
     "execution_count": 43,
     "metadata": {},
     "output_type": "execute_result"
    }
   ],
   "source": [
    "df.head()"
   ]
  },
  {
   "cell_type": "code",
   "execution_count": 44,
   "id": "8646899e",
   "metadata": {},
   "outputs": [],
   "source": [
    "df['CEP'] = df['CEP'].apply(lambda x: public_key.encrypt(\n",
    "\n",
    "    b\"x\",\n",
    "\n",
    "    padding.OAEP(\n",
    "\n",
    "        mgf=padding.MGF1(algorithm=hashes.SHA256()),\n",
    "\n",
    "        algorithm=hashes.SHA256(),\n",
    "\n",
    "        label=None\n",
    "\n",
    "    )\n",
    "\n",
    "))"
   ]
  },
  {
   "cell_type": "code",
   "execution_count": 45,
   "id": "cbe97f8a",
   "metadata": {},
   "outputs": [
    {
     "data": {
      "text/html": [
       "<div>\n",
       "<style scoped>\n",
       "    .dataframe tbody tr th:only-of-type {\n",
       "        vertical-align: middle;\n",
       "    }\n",
       "\n",
       "    .dataframe tbody tr th {\n",
       "        vertical-align: top;\n",
       "    }\n",
       "\n",
       "    .dataframe thead th {\n",
       "        text-align: right;\n",
       "    }\n",
       "</style>\n",
       "<table border=\"1\" class=\"dataframe\">\n",
       "  <thead>\n",
       "    <tr style=\"text-align: right;\">\n",
       "      <th></th>\n",
       "      <th>Nome</th>\n",
       "      <th>E-mail</th>\n",
       "      <th>CPF</th>\n",
       "      <th>Endereço</th>\n",
       "      <th>CEP</th>\n",
       "      <th>Estado</th>\n",
       "      <th>Data Nascimento</th>\n",
       "    </tr>\n",
       "  </thead>\n",
       "  <tbody>\n",
       "    <tr>\n",
       "      <th>0</th>\n",
       "      <td>Augusto Vieira</td>\n",
       "      <td>cardosodavi-lucca@gmail.com</td>\n",
       "      <td>b'gAAAAABhtAcwBuXPaJqr6cfbVeO6UdLxr_fdVmbbW-9E...</td>\n",
       "      <td>Alameda de Moreira, 370</td>\n",
       "      <td>b'&gt;\\xc2\\xd4NR\\xf3\\x13\\x9d\\xca\\x16\\x95\\xb4\\x95;...</td>\n",
       "      <td>RS</td>\n",
       "      <td>21/06/1993</td>\n",
       "    </tr>\n",
       "    <tr>\n",
       "      <th>1</th>\n",
       "      <td>Erick Duarte</td>\n",
       "      <td>calebecastro@gmail.com</td>\n",
       "      <td>b'gAAAAABhtAcwg_-UITVOGwxw8C7YRPIowH8UDX7buA_3...</td>\n",
       "      <td>Fazenda de da Paz, 519</td>\n",
       "      <td>b']\\xd0\\xech]\\xdb\\xf5\\xc2\\xf0~M\\x89O_K \\x98\\xd...</td>\n",
       "      <td>MG</td>\n",
       "      <td>26/12/2012</td>\n",
       "    </tr>\n",
       "    <tr>\n",
       "      <th>2</th>\n",
       "      <td>Murilo Fogaça</td>\n",
       "      <td>acosta@bol.com.br</td>\n",
       "      <td>b'gAAAAABhtAcwpQ90617CdIpmrMjvTCO7ld0i2oS30kpg...</td>\n",
       "      <td>Viela Mariane Costela, 230</td>\n",
       "      <td>b'_&lt;\\xa7:zc\\xf18&lt;\\x83\\x84\\x14\\xe7\\xbd\\xd0\\x1bj...</td>\n",
       "      <td>AM</td>\n",
       "      <td>21/04/1972</td>\n",
       "    </tr>\n",
       "    <tr>\n",
       "      <th>3</th>\n",
       "      <td>Maria Alice Rezende</td>\n",
       "      <td>efarias@yahoo.com.br</td>\n",
       "      <td>b'gAAAAABhtAcw0vGd81dZFrsCpW71Dg38pKV4RJma7lxF...</td>\n",
       "      <td>Pátio Martins, 19</td>\n",
       "      <td>b'h]\\x1c\\xa8\\n\\xc3\\'\\x17o\\x87\\xc1\\x8c0\\xbb\\xe2...</td>\n",
       "      <td>PE</td>\n",
       "      <td>18/06/2006</td>\n",
       "    </tr>\n",
       "    <tr>\n",
       "      <th>4</th>\n",
       "      <td>Vitória Costa</td>\n",
       "      <td>santosesther@hotmail.com</td>\n",
       "      <td>b'gAAAAABhtAcwgMa4cEZqob1Edr0y40hy_a3Qh8mj3mxU...</td>\n",
       "      <td>Rodovia Jesus, 11</td>\n",
       "      <td>b'RZ8\\xb3\\xa0|\\xc8\\x17&lt;\\x9d\\xa9C\\x97\\x08+\\x98\\...</td>\n",
       "      <td>ES</td>\n",
       "      <td>25/08/1989</td>\n",
       "    </tr>\n",
       "  </tbody>\n",
       "</table>\n",
       "</div>"
      ],
      "text/plain": [
       "                  Nome                       E-mail  \\\n",
       "0       Augusto Vieira  cardosodavi-lucca@gmail.com   \n",
       "1         Erick Duarte       calebecastro@gmail.com   \n",
       "2        Murilo Fogaça            acosta@bol.com.br   \n",
       "3  Maria Alice Rezende         efarias@yahoo.com.br   \n",
       "4        Vitória Costa     santosesther@hotmail.com   \n",
       "\n",
       "                                                 CPF  \\\n",
       "0  b'gAAAAABhtAcwBuXPaJqr6cfbVeO6UdLxr_fdVmbbW-9E...   \n",
       "1  b'gAAAAABhtAcwg_-UITVOGwxw8C7YRPIowH8UDX7buA_3...   \n",
       "2  b'gAAAAABhtAcwpQ90617CdIpmrMjvTCO7ld0i2oS30kpg...   \n",
       "3  b'gAAAAABhtAcw0vGd81dZFrsCpW71Dg38pKV4RJma7lxF...   \n",
       "4  b'gAAAAABhtAcwgMa4cEZqob1Edr0y40hy_a3Qh8mj3mxU...   \n",
       "\n",
       "                     Endereço  \\\n",
       "0     Alameda de Moreira, 370   \n",
       "1      Fazenda de da Paz, 519   \n",
       "2  Viela Mariane Costela, 230   \n",
       "3           Pátio Martins, 19   \n",
       "4           Rodovia Jesus, 11   \n",
       "\n",
       "                                                 CEP Estado Data Nascimento  \n",
       "0  b'>\\xc2\\xd4NR\\xf3\\x13\\x9d\\xca\\x16\\x95\\xb4\\x95;...     RS      21/06/1993  \n",
       "1  b']\\xd0\\xech]\\xdb\\xf5\\xc2\\xf0~M\\x89O_K \\x98\\xd...     MG      26/12/2012  \n",
       "2  b'_<\\xa7:zc\\xf18<\\x83\\x84\\x14\\xe7\\xbd\\xd0\\x1bj...     AM      21/04/1972  \n",
       "3  b'h]\\x1c\\xa8\\n\\xc3\\'\\x17o\\x87\\xc1\\x8c0\\xbb\\xe2...     PE      18/06/2006  \n",
       "4  b'RZ8\\xb3\\xa0|\\xc8\\x17<\\x9d\\xa9C\\x97\\x08+\\x98\\...     ES      25/08/1989  "
      ]
     },
     "execution_count": 45,
     "metadata": {},
     "output_type": "execute_result"
    }
   ],
   "source": [
    "df.head()"
   ]
  },
  {
   "cell_type": "markdown",
   "id": "bf71c921",
   "metadata": {},
   "source": [
    "# HASH"
   ]
  },
  {
   "cell_type": "code",
   "execution_count": 46,
   "id": "b079f6df",
   "metadata": {},
   "outputs": [],
   "source": [
    "message = \"Meu segredo\""
   ]
  },
  {
   "cell_type": "code",
   "execution_count": 47,
   "id": "09039484",
   "metadata": {},
   "outputs": [],
   "source": [
    "crip = hash(message)"
   ]
  },
  {
   "cell_type": "code",
   "execution_count": 48,
   "id": "9b2b6630",
   "metadata": {},
   "outputs": [
    {
     "name": "stdout",
     "output_type": "stream",
     "text": [
      "-3970339293802986530\n"
     ]
    }
   ],
   "source": [
    "print(crip)"
   ]
  },
  {
   "cell_type": "code",
   "execution_count": 49,
   "id": "6fda038e",
   "metadata": {},
   "outputs": [],
   "source": [
    "df['Endereço'] = df['Endereço'].apply(lambda x: hash(x))"
   ]
  },
  {
   "cell_type": "code",
   "execution_count": 50,
   "id": "620fa021",
   "metadata": {},
   "outputs": [
    {
     "data": {
      "text/html": [
       "<div>\n",
       "<style scoped>\n",
       "    .dataframe tbody tr th:only-of-type {\n",
       "        vertical-align: middle;\n",
       "    }\n",
       "\n",
       "    .dataframe tbody tr th {\n",
       "        vertical-align: top;\n",
       "    }\n",
       "\n",
       "    .dataframe thead th {\n",
       "        text-align: right;\n",
       "    }\n",
       "</style>\n",
       "<table border=\"1\" class=\"dataframe\">\n",
       "  <thead>\n",
       "    <tr style=\"text-align: right;\">\n",
       "      <th></th>\n",
       "      <th>Nome</th>\n",
       "      <th>E-mail</th>\n",
       "      <th>CPF</th>\n",
       "      <th>Endereço</th>\n",
       "      <th>CEP</th>\n",
       "      <th>Estado</th>\n",
       "      <th>Data Nascimento</th>\n",
       "    </tr>\n",
       "  </thead>\n",
       "  <tbody>\n",
       "    <tr>\n",
       "      <th>0</th>\n",
       "      <td>Augusto Vieira</td>\n",
       "      <td>cardosodavi-lucca@gmail.com</td>\n",
       "      <td>b'gAAAAABhtAcwBuXPaJqr6cfbVeO6UdLxr_fdVmbbW-9E...</td>\n",
       "      <td>-5471144119119599163</td>\n",
       "      <td>b'&gt;\\xc2\\xd4NR\\xf3\\x13\\x9d\\xca\\x16\\x95\\xb4\\x95;...</td>\n",
       "      <td>RS</td>\n",
       "      <td>21/06/1993</td>\n",
       "    </tr>\n",
       "    <tr>\n",
       "      <th>1</th>\n",
       "      <td>Erick Duarte</td>\n",
       "      <td>calebecastro@gmail.com</td>\n",
       "      <td>b'gAAAAABhtAcwg_-UITVOGwxw8C7YRPIowH8UDX7buA_3...</td>\n",
       "      <td>-8415821883915253000</td>\n",
       "      <td>b']\\xd0\\xech]\\xdb\\xf5\\xc2\\xf0~M\\x89O_K \\x98\\xd...</td>\n",
       "      <td>MG</td>\n",
       "      <td>26/12/2012</td>\n",
       "    </tr>\n",
       "    <tr>\n",
       "      <th>2</th>\n",
       "      <td>Murilo Fogaça</td>\n",
       "      <td>acosta@bol.com.br</td>\n",
       "      <td>b'gAAAAABhtAcwpQ90617CdIpmrMjvTCO7ld0i2oS30kpg...</td>\n",
       "      <td>-2254101845685569537</td>\n",
       "      <td>b'_&lt;\\xa7:zc\\xf18&lt;\\x83\\x84\\x14\\xe7\\xbd\\xd0\\x1bj...</td>\n",
       "      <td>AM</td>\n",
       "      <td>21/04/1972</td>\n",
       "    </tr>\n",
       "    <tr>\n",
       "      <th>3</th>\n",
       "      <td>Maria Alice Rezende</td>\n",
       "      <td>efarias@yahoo.com.br</td>\n",
       "      <td>b'gAAAAABhtAcw0vGd81dZFrsCpW71Dg38pKV4RJma7lxF...</td>\n",
       "      <td>-1607800188876326382</td>\n",
       "      <td>b'h]\\x1c\\xa8\\n\\xc3\\'\\x17o\\x87\\xc1\\x8c0\\xbb\\xe2...</td>\n",
       "      <td>PE</td>\n",
       "      <td>18/06/2006</td>\n",
       "    </tr>\n",
       "    <tr>\n",
       "      <th>4</th>\n",
       "      <td>Vitória Costa</td>\n",
       "      <td>santosesther@hotmail.com</td>\n",
       "      <td>b'gAAAAABhtAcwgMa4cEZqob1Edr0y40hy_a3Qh8mj3mxU...</td>\n",
       "      <td>-2965620027723444181</td>\n",
       "      <td>b'RZ8\\xb3\\xa0|\\xc8\\x17&lt;\\x9d\\xa9C\\x97\\x08+\\x98\\...</td>\n",
       "      <td>ES</td>\n",
       "      <td>25/08/1989</td>\n",
       "    </tr>\n",
       "  </tbody>\n",
       "</table>\n",
       "</div>"
      ],
      "text/plain": [
       "                  Nome                       E-mail  \\\n",
       "0       Augusto Vieira  cardosodavi-lucca@gmail.com   \n",
       "1         Erick Duarte       calebecastro@gmail.com   \n",
       "2        Murilo Fogaça            acosta@bol.com.br   \n",
       "3  Maria Alice Rezende         efarias@yahoo.com.br   \n",
       "4        Vitória Costa     santosesther@hotmail.com   \n",
       "\n",
       "                                                 CPF             Endereço  \\\n",
       "0  b'gAAAAABhtAcwBuXPaJqr6cfbVeO6UdLxr_fdVmbbW-9E... -5471144119119599163   \n",
       "1  b'gAAAAABhtAcwg_-UITVOGwxw8C7YRPIowH8UDX7buA_3... -8415821883915253000   \n",
       "2  b'gAAAAABhtAcwpQ90617CdIpmrMjvTCO7ld0i2oS30kpg... -2254101845685569537   \n",
       "3  b'gAAAAABhtAcw0vGd81dZFrsCpW71Dg38pKV4RJma7lxF... -1607800188876326382   \n",
       "4  b'gAAAAABhtAcwgMa4cEZqob1Edr0y40hy_a3Qh8mj3mxU... -2965620027723444181   \n",
       "\n",
       "                                                 CEP Estado Data Nascimento  \n",
       "0  b'>\\xc2\\xd4NR\\xf3\\x13\\x9d\\xca\\x16\\x95\\xb4\\x95;...     RS      21/06/1993  \n",
       "1  b']\\xd0\\xech]\\xdb\\xf5\\xc2\\xf0~M\\x89O_K \\x98\\xd...     MG      26/12/2012  \n",
       "2  b'_<\\xa7:zc\\xf18<\\x83\\x84\\x14\\xe7\\xbd\\xd0\\x1bj...     AM      21/04/1972  \n",
       "3  b'h]\\x1c\\xa8\\n\\xc3\\'\\x17o\\x87\\xc1\\x8c0\\xbb\\xe2...     PE      18/06/2006  \n",
       "4  b'RZ8\\xb3\\xa0|\\xc8\\x17<\\x9d\\xa9C\\x97\\x08+\\x98\\...     ES      25/08/1989  "
      ]
     },
     "execution_count": 50,
     "metadata": {},
     "output_type": "execute_result"
    }
   ],
   "source": [
    "df.head()"
   ]
  },
  {
   "cell_type": "code",
   "execution_count": null,
   "id": "59103106",
   "metadata": {},
   "outputs": [],
   "source": []
  }
 ],
 "metadata": {
  "kernelspec": {
   "display_name": "Python 3 (ipykernel)",
   "language": "python",
   "name": "python3"
  },
  "language_info": {
   "codemirror_mode": {
    "name": "ipython",
    "version": 3
   },
   "file_extension": ".py",
   "mimetype": "text/x-python",
   "name": "python",
   "nbconvert_exporter": "python",
   "pygments_lexer": "ipython3",
   "version": "3.9.7"
  }
 },
 "nbformat": 4,
 "nbformat_minor": 5
}

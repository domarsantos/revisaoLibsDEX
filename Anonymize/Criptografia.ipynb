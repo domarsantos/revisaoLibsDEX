{
 "cells": [
  {
   "cell_type": "code",
   "execution_count": 7,
   "id": "95390422",
   "metadata": {},
   "outputs": [],
   "source": [
    "import pandas as pd\n",
    "from cryptography.fernet import Fernet"
   ]
  },
  {
   "cell_type": "code",
   "execution_count": null,
   "id": "8ddd0223",
   "metadata": {},
   "outputs": [],
   "source": [
    "key = Fernet.generate_key()\n",
    "cipher_suite = Fernet(key)\n",
    "cipher_text = cipher_suite.encrypt(b\"A really secret message. Not for prying eyes.\")\n",
    "plain_text = cipher_suite.decrypt(cipher_text)"
   ]
  },
  {
   "cell_type": "code",
   "execution_count": 8,
   "id": "c91160d2",
   "metadata": {},
   "outputs": [],
   "source": [
    "df = pd.read_csv('dataset.csv', delimiter=';')"
   ]
  },
  {
   "cell_type": "code",
   "execution_count": 6,
   "id": "a717aa5d",
   "metadata": {},
   "outputs": [
    {
     "data": {
      "text/html": [
       "<div>\n",
       "<style scoped>\n",
       "    .dataframe tbody tr th:only-of-type {\n",
       "        vertical-align: middle;\n",
       "    }\n",
       "\n",
       "    .dataframe tbody tr th {\n",
       "        vertical-align: top;\n",
       "    }\n",
       "\n",
       "    .dataframe thead th {\n",
       "        text-align: right;\n",
       "    }\n",
       "</style>\n",
       "<table border=\"1\" class=\"dataframe\">\n",
       "  <thead>\n",
       "    <tr style=\"text-align: right;\">\n",
       "      <th></th>\n",
       "      <th>Nome</th>\n",
       "      <th>E-mail</th>\n",
       "      <th>CPF</th>\n",
       "      <th>Endereço</th>\n",
       "      <th>CEP</th>\n",
       "      <th>Estado</th>\n",
       "      <th>Data Nascimento</th>\n",
       "    </tr>\n",
       "  </thead>\n",
       "  <tbody>\n",
       "    <tr>\n",
       "      <th>0</th>\n",
       "      <td>Augusto Vieira</td>\n",
       "      <td>cardosodavi-lucca@gmail.com</td>\n",
       "      <td>394.160.258-60</td>\n",
       "      <td>Alameda de Moreira, 370</td>\n",
       "      <td>59103-712</td>\n",
       "      <td>RS</td>\n",
       "      <td>21/06/1993</td>\n",
       "    </tr>\n",
       "    <tr>\n",
       "      <th>1</th>\n",
       "      <td>Erick Duarte</td>\n",
       "      <td>calebecastro@gmail.com</td>\n",
       "      <td>907.862.541-49</td>\n",
       "      <td>Fazenda de da Paz, 519</td>\n",
       "      <td>91372-831</td>\n",
       "      <td>MG</td>\n",
       "      <td>26/12/2012</td>\n",
       "    </tr>\n",
       "    <tr>\n",
       "      <th>2</th>\n",
       "      <td>Murilo Fogaça</td>\n",
       "      <td>acosta@bol.com.br</td>\n",
       "      <td>650.127.983-68</td>\n",
       "      <td>Viela Mariane Costela, 230</td>\n",
       "      <td>57328-451</td>\n",
       "      <td>AM</td>\n",
       "      <td>21/04/1972</td>\n",
       "    </tr>\n",
       "    <tr>\n",
       "      <th>3</th>\n",
       "      <td>Maria Alice Rezende</td>\n",
       "      <td>efarias@yahoo.com.br</td>\n",
       "      <td>274.653.801-62</td>\n",
       "      <td>Pátio Martins, 19</td>\n",
       "      <td>79394-246</td>\n",
       "      <td>PE</td>\n",
       "      <td>18/06/2006</td>\n",
       "    </tr>\n",
       "    <tr>\n",
       "      <th>4</th>\n",
       "      <td>Vitória Costa</td>\n",
       "      <td>santosesther@hotmail.com</td>\n",
       "      <td>748.592.016-20</td>\n",
       "      <td>Rodovia Jesus, 11</td>\n",
       "      <td>49595-407</td>\n",
       "      <td>ES</td>\n",
       "      <td>25/08/1989</td>\n",
       "    </tr>\n",
       "  </tbody>\n",
       "</table>\n",
       "</div>"
      ],
      "text/plain": [
       "                  Nome                       E-mail             CPF  \\\n",
       "0       Augusto Vieira  cardosodavi-lucca@gmail.com  394.160.258-60   \n",
       "1         Erick Duarte       calebecastro@gmail.com  907.862.541-49   \n",
       "2        Murilo Fogaça            acosta@bol.com.br  650.127.983-68   \n",
       "3  Maria Alice Rezende         efarias@yahoo.com.br  274.653.801-62   \n",
       "4        Vitória Costa     santosesther@hotmail.com  748.592.016-20   \n",
       "\n",
       "                     Endereço        CEP Estado Data Nascimento  \n",
       "0     Alameda de Moreira, 370  59103-712     RS      21/06/1993  \n",
       "1      Fazenda de da Paz, 519  91372-831     MG      26/12/2012  \n",
       "2  Viela Mariane Costela, 230  57328-451     AM      21/04/1972  \n",
       "3           Pátio Martins, 19  79394-246     PE      18/06/2006  \n",
       "4           Rodovia Jesus, 11  49595-407     ES      25/08/1989  "
      ]
     },
     "execution_count": 6,
     "metadata": {},
     "output_type": "execute_result"
    }
   ],
   "source": [
    "df.head()"
   ]
  },
  {
   "cell_type": "code",
   "execution_count": 7,
   "id": "df44c984",
   "metadata": {},
   "outputs": [
    {
     "name": "stdout",
     "output_type": "stream",
     "text": [
      "b'NV0bqOdAMAMaVKeZzGXUpNs3DyGWmRxWk4Tp8E81x2A='\n"
     ]
    }
   ],
   "source": [
    "key = Fernet.generate_key()\n",
    "print(key)"
   ]
  },
  {
   "cell_type": "code",
   "execution_count": 8,
   "id": "7db98f43",
   "metadata": {},
   "outputs": [],
   "source": [
    "cipher_suite = Fernet(key)"
   ]
  },
  {
   "cell_type": "code",
   "execution_count": 15,
   "id": "d129a09a",
   "metadata": {},
   "outputs": [],
   "source": [
    "# cipher_text = cipher_suite.encrypt(b\"A really secret message. Not for prying eyes.\")\n",
    "# plain_text = cipher_suite.decrypt(cipher_text)\n",
    "\n",
    "df['CPF'] = df['CPF'].apply(lambda x: cipher_suite.encrypt(b\"x\"))"
   ]
  },
  {
   "cell_type": "code",
   "execution_count": 16,
   "id": "ff57237d",
   "metadata": {},
   "outputs": [
    {
     "data": {
      "text/html": [
       "<div>\n",
       "<style scoped>\n",
       "    .dataframe tbody tr th:only-of-type {\n",
       "        vertical-align: middle;\n",
       "    }\n",
       "\n",
       "    .dataframe tbody tr th {\n",
       "        vertical-align: top;\n",
       "    }\n",
       "\n",
       "    .dataframe thead th {\n",
       "        text-align: right;\n",
       "    }\n",
       "</style>\n",
       "<table border=\"1\" class=\"dataframe\">\n",
       "  <thead>\n",
       "    <tr style=\"text-align: right;\">\n",
       "      <th></th>\n",
       "      <th>Nome</th>\n",
       "      <th>E-mail</th>\n",
       "      <th>CPF</th>\n",
       "      <th>Endereço</th>\n",
       "      <th>CEP</th>\n",
       "      <th>Estado</th>\n",
       "      <th>Data Nascimento</th>\n",
       "    </tr>\n",
       "  </thead>\n",
       "  <tbody>\n",
       "    <tr>\n",
       "      <th>0</th>\n",
       "      <td>Augusto Vieira</td>\n",
       "      <td>cardosodavi-lucca@gmail.com</td>\n",
       "      <td>b'gAAAAABhs9UI9lbekMl5mLfxIpJ_4UP0ISP-MSqvRBG2...</td>\n",
       "      <td>Alameda de Moreira, 370</td>\n",
       "      <td>59103-712</td>\n",
       "      <td>RS</td>\n",
       "      <td>21/06/1993</td>\n",
       "    </tr>\n",
       "    <tr>\n",
       "      <th>1</th>\n",
       "      <td>Erick Duarte</td>\n",
       "      <td>calebecastro@gmail.com</td>\n",
       "      <td>b'gAAAAABhs9UINkTDty9sMZKdq7Afu86y-YzIOZHm238l...</td>\n",
       "      <td>Fazenda de da Paz, 519</td>\n",
       "      <td>91372-831</td>\n",
       "      <td>MG</td>\n",
       "      <td>26/12/2012</td>\n",
       "    </tr>\n",
       "    <tr>\n",
       "      <th>2</th>\n",
       "      <td>Murilo Fogaça</td>\n",
       "      <td>acosta@bol.com.br</td>\n",
       "      <td>b'gAAAAABhs9UIBTgmD4Ei6g2wnW1N13iFmmwQPwmBzKlI...</td>\n",
       "      <td>Viela Mariane Costela, 230</td>\n",
       "      <td>57328-451</td>\n",
       "      <td>AM</td>\n",
       "      <td>21/04/1972</td>\n",
       "    </tr>\n",
       "    <tr>\n",
       "      <th>3</th>\n",
       "      <td>Maria Alice Rezende</td>\n",
       "      <td>efarias@yahoo.com.br</td>\n",
       "      <td>b'gAAAAABhs9UI0EBfnW8_1U-hdcVo9VlCCPdWmCwBCFw5...</td>\n",
       "      <td>Pátio Martins, 19</td>\n",
       "      <td>79394-246</td>\n",
       "      <td>PE</td>\n",
       "      <td>18/06/2006</td>\n",
       "    </tr>\n",
       "    <tr>\n",
       "      <th>4</th>\n",
       "      <td>Vitória Costa</td>\n",
       "      <td>santosesther@hotmail.com</td>\n",
       "      <td>b'gAAAAABhs9UILJxLxZviUyuBF3Cg2OipNldNZ3-L9HPN...</td>\n",
       "      <td>Rodovia Jesus, 11</td>\n",
       "      <td>49595-407</td>\n",
       "      <td>ES</td>\n",
       "      <td>25/08/1989</td>\n",
       "    </tr>\n",
       "  </tbody>\n",
       "</table>\n",
       "</div>"
      ],
      "text/plain": [
       "                  Nome                       E-mail  \\\n",
       "0       Augusto Vieira  cardosodavi-lucca@gmail.com   \n",
       "1         Erick Duarte       calebecastro@gmail.com   \n",
       "2        Murilo Fogaça            acosta@bol.com.br   \n",
       "3  Maria Alice Rezende         efarias@yahoo.com.br   \n",
       "4        Vitória Costa     santosesther@hotmail.com   \n",
       "\n",
       "                                                 CPF  \\\n",
       "0  b'gAAAAABhs9UI9lbekMl5mLfxIpJ_4UP0ISP-MSqvRBG2...   \n",
       "1  b'gAAAAABhs9UINkTDty9sMZKdq7Afu86y-YzIOZHm238l...   \n",
       "2  b'gAAAAABhs9UIBTgmD4Ei6g2wnW1N13iFmmwQPwmBzKlI...   \n",
       "3  b'gAAAAABhs9UI0EBfnW8_1U-hdcVo9VlCCPdWmCwBCFw5...   \n",
       "4  b'gAAAAABhs9UILJxLxZviUyuBF3Cg2OipNldNZ3-L9HPN...   \n",
       "\n",
       "                     Endereço        CEP Estado Data Nascimento  \n",
       "0     Alameda de Moreira, 370  59103-712     RS      21/06/1993  \n",
       "1      Fazenda de da Paz, 519  91372-831     MG      26/12/2012  \n",
       "2  Viela Mariane Costela, 230  57328-451     AM      21/04/1972  \n",
       "3           Pátio Martins, 19  79394-246     PE      18/06/2006  \n",
       "4           Rodovia Jesus, 11  49595-407     ES      25/08/1989  "
      ]
     },
     "execution_count": 16,
     "metadata": {},
     "output_type": "execute_result"
    }
   ],
   "source": [
    "df.head()"
   ]
  },
  {
   "cell_type": "code",
   "execution_count": 2,
   "id": "e374c455",
   "metadata": {},
   "outputs": [],
   "source": [
    "from cryptography.hazmat.primitives.asymmetric import rsa\n",
    "private_key = rsa.generate_private_key(\n",
    "    public_exponent=65537,\n",
    "    key_size=2048,\n",
    "#     backend=default_backend()\n",
    ")\n",
    "public_key = private_key.public_key()\n"
   ]
  },
  {
   "cell_type": "code",
   "execution_count": 3,
   "id": "0b2f1c8e",
   "metadata": {},
   "outputs": [
    {
     "name": "stdout",
     "output_type": "stream",
     "text": [
      "<cryptography.hazmat.backends.openssl.rsa._RSAPrivateKey object at 0x107a1a7f0>\n"
     ]
    }
   ],
   "source": [
    "print(private_key)"
   ]
  },
  {
   "cell_type": "code",
   "execution_count": 4,
   "id": "2cb2717f",
   "metadata": {},
   "outputs": [],
   "source": [
    "from cryptography.hazmat.primitives import hashes\n",
    "from cryptography.hazmat.primitives.asymmetric import padding"
   ]
  },
  {
   "cell_type": "code",
   "execution_count": 11,
   "id": "4baa2449",
   "metadata": {},
   "outputs": [
    {
     "ename": "TypeError",
     "evalue": "__init__() missing 1 required positional argument: 'label'",
     "output_type": "error",
     "traceback": [
      "\u001b[0;31m---------------------------------------------------------------------------\u001b[0m",
      "\u001b[0;31mTypeError\u001b[0m                                 Traceback (most recent call last)",
      "\u001b[0;32m/var/folders/g_/4qm43ky51kvbs_fvvzrg15vc0000gn/T/ipykernel_24943/4216792729.py\u001b[0m in \u001b[0;36m<module>\u001b[0;34m\u001b[0m\n\u001b[0;32m----> 1\u001b[0;31m \u001b[0mdf\u001b[0m\u001b[0;34m[\u001b[0m\u001b[0;34m'Nome'\u001b[0m\u001b[0;34m]\u001b[0m \u001b[0;34m=\u001b[0m \u001b[0mdf\u001b[0m\u001b[0;34m[\u001b[0m\u001b[0;34m'Nome'\u001b[0m\u001b[0;34m]\u001b[0m\u001b[0;34m.\u001b[0m\u001b[0mapply\u001b[0m\u001b[0;34m(\u001b[0m\u001b[0;32mlambda\u001b[0m \u001b[0mx\u001b[0m\u001b[0;34m:\u001b[0m \u001b[0mpublic_key\u001b[0m\u001b[0;34m.\u001b[0m\u001b[0mencrypt\u001b[0m\u001b[0;34m(\u001b[0m\u001b[0;34mb\"x\"\u001b[0m\u001b[0;34m,\u001b[0m\u001b[0mpadding\u001b[0m\u001b[0;34m.\u001b[0m\u001b[0mOAEP\u001b[0m\u001b[0;34m(\u001b[0m\u001b[0mmgf\u001b[0m\u001b[0;34m=\u001b[0m\u001b[0mpadding\u001b[0m\u001b[0;34m.\u001b[0m\u001b[0mMGF1\u001b[0m\u001b[0;34m(\u001b[0m\u001b[0malgorithm\u001b[0m\u001b[0;34m=\u001b[0m\u001b[0mhashes\u001b[0m\u001b[0;34m.\u001b[0m\u001b[0mSHA256\u001b[0m\u001b[0;34m(\u001b[0m\u001b[0;34m)\u001b[0m\u001b[0;34m)\u001b[0m\u001b[0;34m,\u001b[0m\u001b[0malgorithm\u001b[0m\u001b[0;34m=\u001b[0m\u001b[0mhashes\u001b[0m\u001b[0;34m.\u001b[0m\u001b[0mSHA256\u001b[0m\u001b[0;34m(\u001b[0m\u001b[0;34m)\u001b[0m\u001b[0;34m)\u001b[0m\u001b[0;34m)\u001b[0m\u001b[0;34m)\u001b[0m\u001b[0;34m\u001b[0m\u001b[0;34m\u001b[0m\u001b[0m\n\u001b[0m",
      "\u001b[0;32m/usr/local/lib/python3.9/site-packages/pandas/core/series.py\u001b[0m in \u001b[0;36mapply\u001b[0;34m(self, func, convert_dtype, args, **kwargs)\u001b[0m\n\u001b[1;32m   4355\u001b[0m         \u001b[0mdtype\u001b[0m\u001b[0;34m:\u001b[0m \u001b[0mfloat64\u001b[0m\u001b[0;34m\u001b[0m\u001b[0;34m\u001b[0m\u001b[0m\n\u001b[1;32m   4356\u001b[0m         \"\"\"\n\u001b[0;32m-> 4357\u001b[0;31m         \u001b[0;32mreturn\u001b[0m \u001b[0mSeriesApply\u001b[0m\u001b[0;34m(\u001b[0m\u001b[0mself\u001b[0m\u001b[0;34m,\u001b[0m \u001b[0mfunc\u001b[0m\u001b[0;34m,\u001b[0m \u001b[0mconvert_dtype\u001b[0m\u001b[0;34m,\u001b[0m \u001b[0margs\u001b[0m\u001b[0;34m,\u001b[0m \u001b[0mkwargs\u001b[0m\u001b[0;34m)\u001b[0m\u001b[0;34m.\u001b[0m\u001b[0mapply\u001b[0m\u001b[0;34m(\u001b[0m\u001b[0;34m)\u001b[0m\u001b[0;34m\u001b[0m\u001b[0;34m\u001b[0m\u001b[0m\n\u001b[0m\u001b[1;32m   4358\u001b[0m \u001b[0;34m\u001b[0m\u001b[0m\n\u001b[1;32m   4359\u001b[0m     def _reduce(\n",
      "\u001b[0;32m/usr/local/lib/python3.9/site-packages/pandas/core/apply.py\u001b[0m in \u001b[0;36mapply\u001b[0;34m(self)\u001b[0m\n\u001b[1;32m   1041\u001b[0m             \u001b[0;32mreturn\u001b[0m \u001b[0mself\u001b[0m\u001b[0;34m.\u001b[0m\u001b[0mapply_str\u001b[0m\u001b[0;34m(\u001b[0m\u001b[0;34m)\u001b[0m\u001b[0;34m\u001b[0m\u001b[0;34m\u001b[0m\u001b[0m\n\u001b[1;32m   1042\u001b[0m \u001b[0;34m\u001b[0m\u001b[0m\n\u001b[0;32m-> 1043\u001b[0;31m         \u001b[0;32mreturn\u001b[0m \u001b[0mself\u001b[0m\u001b[0;34m.\u001b[0m\u001b[0mapply_standard\u001b[0m\u001b[0;34m(\u001b[0m\u001b[0;34m)\u001b[0m\u001b[0;34m\u001b[0m\u001b[0;34m\u001b[0m\u001b[0m\n\u001b[0m\u001b[1;32m   1044\u001b[0m \u001b[0;34m\u001b[0m\u001b[0m\n\u001b[1;32m   1045\u001b[0m     \u001b[0;32mdef\u001b[0m \u001b[0magg\u001b[0m\u001b[0;34m(\u001b[0m\u001b[0mself\u001b[0m\u001b[0;34m)\u001b[0m\u001b[0;34m:\u001b[0m\u001b[0;34m\u001b[0m\u001b[0;34m\u001b[0m\u001b[0m\n",
      "\u001b[0;32m/usr/local/lib/python3.9/site-packages/pandas/core/apply.py\u001b[0m in \u001b[0;36mapply_standard\u001b[0;34m(self)\u001b[0m\n\u001b[1;32m   1097\u001b[0m                 \u001b[0;31m# List[Union[Callable[..., Any], str]]]]]\"; expected\u001b[0m\u001b[0;34m\u001b[0m\u001b[0;34m\u001b[0m\u001b[0m\n\u001b[1;32m   1098\u001b[0m                 \u001b[0;31m# \"Callable[[Any], Any]\"\u001b[0m\u001b[0;34m\u001b[0m\u001b[0;34m\u001b[0m\u001b[0m\n\u001b[0;32m-> 1099\u001b[0;31m                 mapped = lib.map_infer(\n\u001b[0m\u001b[1;32m   1100\u001b[0m                     \u001b[0mvalues\u001b[0m\u001b[0;34m,\u001b[0m\u001b[0;34m\u001b[0m\u001b[0;34m\u001b[0m\u001b[0m\n\u001b[1;32m   1101\u001b[0m                     \u001b[0mf\u001b[0m\u001b[0;34m,\u001b[0m  \u001b[0;31m# type: ignore[arg-type]\u001b[0m\u001b[0;34m\u001b[0m\u001b[0;34m\u001b[0m\u001b[0m\n",
      "\u001b[0;32m/usr/local/lib/python3.9/site-packages/pandas/_libs/lib.pyx\u001b[0m in \u001b[0;36mpandas._libs.lib.map_infer\u001b[0;34m()\u001b[0m\n",
      "\u001b[0;32m/var/folders/g_/4qm43ky51kvbs_fvvzrg15vc0000gn/T/ipykernel_24943/4216792729.py\u001b[0m in \u001b[0;36m<lambda>\u001b[0;34m(x)\u001b[0m\n\u001b[0;32m----> 1\u001b[0;31m \u001b[0mdf\u001b[0m\u001b[0;34m[\u001b[0m\u001b[0;34m'Nome'\u001b[0m\u001b[0;34m]\u001b[0m \u001b[0;34m=\u001b[0m \u001b[0mdf\u001b[0m\u001b[0;34m[\u001b[0m\u001b[0;34m'Nome'\u001b[0m\u001b[0;34m]\u001b[0m\u001b[0;34m.\u001b[0m\u001b[0mapply\u001b[0m\u001b[0;34m(\u001b[0m\u001b[0;32mlambda\u001b[0m \u001b[0mx\u001b[0m\u001b[0;34m:\u001b[0m \u001b[0mpublic_key\u001b[0m\u001b[0;34m.\u001b[0m\u001b[0mencrypt\u001b[0m\u001b[0;34m(\u001b[0m\u001b[0;34mb\"x\"\u001b[0m\u001b[0;34m,\u001b[0m\u001b[0mpadding\u001b[0m\u001b[0;34m.\u001b[0m\u001b[0mOAEP\u001b[0m\u001b[0;34m(\u001b[0m\u001b[0mmgf\u001b[0m\u001b[0;34m=\u001b[0m\u001b[0mpadding\u001b[0m\u001b[0;34m.\u001b[0m\u001b[0mMGF1\u001b[0m\u001b[0;34m(\u001b[0m\u001b[0malgorithm\u001b[0m\u001b[0;34m=\u001b[0m\u001b[0mhashes\u001b[0m\u001b[0;34m.\u001b[0m\u001b[0mSHA256\u001b[0m\u001b[0;34m(\u001b[0m\u001b[0;34m)\u001b[0m\u001b[0;34m)\u001b[0m\u001b[0;34m,\u001b[0m\u001b[0malgorithm\u001b[0m\u001b[0;34m=\u001b[0m\u001b[0mhashes\u001b[0m\u001b[0;34m.\u001b[0m\u001b[0mSHA256\u001b[0m\u001b[0;34m(\u001b[0m\u001b[0;34m)\u001b[0m\u001b[0;34m)\u001b[0m\u001b[0;34m)\u001b[0m\u001b[0;34m)\u001b[0m\u001b[0;34m\u001b[0m\u001b[0;34m\u001b[0m\u001b[0m\n\u001b[0m",
      "\u001b[0;31mTypeError\u001b[0m: __init__() missing 1 required positional argument: 'label'"
     ]
    }
   ],
   "source": [
    "df['Nome'] = df['Nome'].apply(lambda x: public_key.encrypt(b\"x\",padding.OAEP(mgf=padding.MGF1(algorithm=hashes.SHA256()),algorithm=hashes.SHA256(),label=None)))"
   ]
  },
  {
   "cell_type": "code",
   "execution_count": 10,
   "id": "38a33886",
   "metadata": {},
   "outputs": [
    {
     "data": {
      "text/html": [
       "<div>\n",
       "<style scoped>\n",
       "    .dataframe tbody tr th:only-of-type {\n",
       "        vertical-align: middle;\n",
       "    }\n",
       "\n",
       "    .dataframe tbody tr th {\n",
       "        vertical-align: top;\n",
       "    }\n",
       "\n",
       "    .dataframe thead th {\n",
       "        text-align: right;\n",
       "    }\n",
       "</style>\n",
       "<table border=\"1\" class=\"dataframe\">\n",
       "  <thead>\n",
       "    <tr style=\"text-align: right;\">\n",
       "      <th></th>\n",
       "      <th>Nome</th>\n",
       "      <th>E-mail</th>\n",
       "      <th>CPF</th>\n",
       "      <th>Endereço</th>\n",
       "      <th>CEP</th>\n",
       "      <th>Estado</th>\n",
       "      <th>Data Nascimento</th>\n",
       "    </tr>\n",
       "  </thead>\n",
       "  <tbody>\n",
       "    <tr>\n",
       "      <th>0</th>\n",
       "      <td>b'p\\x1e\\xa1\\xee\\xefL\\x14\\x80\\x80\\xa4\\xe6~\\xa0^...</td>\n",
       "      <td>cardosodavi-lucca@gmail.com</td>\n",
       "      <td>394.160.258-60</td>\n",
       "      <td>Alameda de Moreira, 370</td>\n",
       "      <td>59103-712</td>\n",
       "      <td>RS</td>\n",
       "      <td>21/06/1993</td>\n",
       "    </tr>\n",
       "    <tr>\n",
       "      <th>1</th>\n",
       "      <td>b'\\x01\\xac\\x95\\xa0AD\\xcd\\x99\\x7f\\\\\\xd7\\x1fT\\x9...</td>\n",
       "      <td>calebecastro@gmail.com</td>\n",
       "      <td>907.862.541-49</td>\n",
       "      <td>Fazenda de da Paz, 519</td>\n",
       "      <td>91372-831</td>\n",
       "      <td>MG</td>\n",
       "      <td>26/12/2012</td>\n",
       "    </tr>\n",
       "    <tr>\n",
       "      <th>2</th>\n",
       "      <td>b'\\x8a\\xf0Nc\\xfa\\xbej\\x83X\\x12\\xaa\\x16~g[\\x90\\...</td>\n",
       "      <td>acosta@bol.com.br</td>\n",
       "      <td>650.127.983-68</td>\n",
       "      <td>Viela Mariane Costela, 230</td>\n",
       "      <td>57328-451</td>\n",
       "      <td>AM</td>\n",
       "      <td>21/04/1972</td>\n",
       "    </tr>\n",
       "    <tr>\n",
       "      <th>3</th>\n",
       "      <td>b'\\x13A\\xce\\xe7\\xf8$(:\\x11\\x08~\\x02\\xf4\\xa8\\xe...</td>\n",
       "      <td>efarias@yahoo.com.br</td>\n",
       "      <td>274.653.801-62</td>\n",
       "      <td>Pátio Martins, 19</td>\n",
       "      <td>79394-246</td>\n",
       "      <td>PE</td>\n",
       "      <td>18/06/2006</td>\n",
       "    </tr>\n",
       "    <tr>\n",
       "      <th>4</th>\n",
       "      <td>b'\\x95I\\xc0\\x96\\x16\\xaa\\xcd\\rW\\x01h\\xd2\\xc4-\\x...</td>\n",
       "      <td>santosesther@hotmail.com</td>\n",
       "      <td>748.592.016-20</td>\n",
       "      <td>Rodovia Jesus, 11</td>\n",
       "      <td>49595-407</td>\n",
       "      <td>ES</td>\n",
       "      <td>25/08/1989</td>\n",
       "    </tr>\n",
       "  </tbody>\n",
       "</table>\n",
       "</div>"
      ],
      "text/plain": [
       "                                                Nome  \\\n",
       "0  b'p\\x1e\\xa1\\xee\\xefL\\x14\\x80\\x80\\xa4\\xe6~\\xa0^...   \n",
       "1  b'\\x01\\xac\\x95\\xa0AD\\xcd\\x99\\x7f\\\\\\xd7\\x1fT\\x9...   \n",
       "2  b'\\x8a\\xf0Nc\\xfa\\xbej\\x83X\\x12\\xaa\\x16~g[\\x90\\...   \n",
       "3  b'\\x13A\\xce\\xe7\\xf8$(:\\x11\\x08~\\x02\\xf4\\xa8\\xe...   \n",
       "4  b'\\x95I\\xc0\\x96\\x16\\xaa\\xcd\\rW\\x01h\\xd2\\xc4-\\x...   \n",
       "\n",
       "                        E-mail             CPF                    Endereço  \\\n",
       "0  cardosodavi-lucca@gmail.com  394.160.258-60     Alameda de Moreira, 370   \n",
       "1       calebecastro@gmail.com  907.862.541-49      Fazenda de da Paz, 519   \n",
       "2            acosta@bol.com.br  650.127.983-68  Viela Mariane Costela, 230   \n",
       "3         efarias@yahoo.com.br  274.653.801-62           Pátio Martins, 19   \n",
       "4     santosesther@hotmail.com  748.592.016-20           Rodovia Jesus, 11   \n",
       "\n",
       "         CEP Estado Data Nascimento  \n",
       "0  59103-712     RS      21/06/1993  \n",
       "1  91372-831     MG      26/12/2012  \n",
       "2  57328-451     AM      21/04/1972  \n",
       "3  79394-246     PE      18/06/2006  \n",
       "4  49595-407     ES      25/08/1989  "
      ]
     },
     "execution_count": 10,
     "metadata": {},
     "output_type": "execute_result"
    }
   ],
   "source": [
    "df.head()"
   ]
  },
  {
   "cell_type": "code",
   "execution_count": null,
   "id": "c6a95dd2",
   "metadata": {},
   "outputs": [],
   "source": []
  },
  {
   "cell_type": "code",
   "execution_count": null,
   "id": "b636f38b",
   "metadata": {},
   "outputs": [],
   "source": []
  }
 ],
 "metadata": {
  "kernelspec": {
   "display_name": "Python 3 (ipykernel)",
   "language": "python",
   "name": "python3"
  },
  "language_info": {
   "codemirror_mode": {
    "name": "ipython",
    "version": 3
   },
   "file_extension": ".py",
   "mimetype": "text/x-python",
   "name": "python",
   "nbconvert_exporter": "python",
   "pygments_lexer": "ipython3",
   "version": "3.9.7"
  }
 },
 "nbformat": 4,
 "nbformat_minor": 5
}

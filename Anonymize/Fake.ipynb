{
 "cells": [
  {
   "cell_type": "code",
   "execution_count": 37,
   "id": "72d4c7ff",
   "metadata": {},
   "outputs": [],
   "source": [
    "from faker import Faker\n",
    "import pandas as pd\n",
    "import numpy as np\n",
    "from sklearn.preprocessing import LabelEncoder\n",
    "from sklearn_pandas import DataFrameMapper"
   ]
  },
  {
   "cell_type": "code",
   "execution_count": 20,
   "id": "caa8a4d6",
   "metadata": {},
   "outputs": [],
   "source": [
    "faker = Faker(['pt-BR'])"
   ]
  },
  {
   "cell_type": "code",
   "execution_count": 56,
   "id": "c8de3878",
   "metadata": {},
   "outputs": [
    {
     "name": "stdout",
     "output_type": "stream",
     "text": [
      "1993-06-21\n",
      "2012-12-26\n",
      "1972-04-21\n",
      "2006-06-18\n",
      "1989-08-25\n",
      "1993-02-19\n",
      "1978-12-09\n",
      "1991-03-24\n",
      "1978-06-15\n",
      "2000-12-08\n",
      "1991-05-31\n",
      "1995-08-22\n",
      "2019-03-23\n",
      "2011-04-16\n",
      "2017-08-14\n",
      "1997-12-05\n",
      "1981-02-19\n",
      "2018-09-30\n",
      "2011-08-17\n",
      "2007-01-24\n"
     ]
    }
   ],
   "source": [
    "i = 0\n",
    "\n",
    "while i < 20:\n",
    "    print(faker.date())\n",
    "    i = i+1"
   ]
  },
  {
   "cell_type": "code",
   "execution_count": 22,
   "id": "b2b67396",
   "metadata": {},
   "outputs": [
    {
     "data": {
      "text/plain": [
       "'pporto@example.org'"
      ]
     },
     "execution_count": 22,
     "metadata": {},
     "output_type": "execute_result"
    }
   ],
   "source": [
    "faker.email()"
   ]
  },
  {
   "cell_type": "code",
   "execution_count": 32,
   "id": "af61fb69",
   "metadata": {},
   "outputs": [
    {
     "data": {
      "text/plain": [
       "'lorena10@santos.br'"
      ]
     },
     "execution_count": 32,
     "metadata": {},
     "output_type": "execute_result"
    }
   ],
   "source": [
    "faker.ascii_company_email()"
   ]
  },
  {
   "cell_type": "code",
   "execution_count": 31,
   "id": "566acb83",
   "metadata": {},
   "outputs": [
    {
     "data": {
      "text/plain": [
       "'da-motarafael@uol.com.br'"
      ]
     },
     "execution_count": 31,
     "metadata": {},
     "output_type": "execute_result"
    }
   ],
   "source": [
    "faker.free_email()"
   ]
  },
  {
   "cell_type": "code",
   "execution_count": 23,
   "id": "b4253196",
   "metadata": {},
   "outputs": [
    {
     "data": {
      "text/plain": [
       "'136.540.827-26'"
      ]
     },
     "execution_count": 23,
     "metadata": {},
     "output_type": "execute_result"
    }
   ],
   "source": [
    "faker.cpf()"
   ]
  },
  {
   "cell_type": "code",
   "execution_count": 24,
   "id": "f5060fc8",
   "metadata": {},
   "outputs": [
    {
     "data": {
      "text/plain": [
       "'70.351.628/0001-17'"
      ]
     },
     "execution_count": 24,
     "metadata": {},
     "output_type": "execute_result"
    }
   ],
   "source": [
    "faker.cnpj()"
   ]
  },
  {
   "cell_type": "code",
   "execution_count": 38,
   "id": "6af28871",
   "metadata": {},
   "outputs": [],
   "source": [
    "df = pd.DataFrame({\n",
    "    'id' : [1,2,3,4] ,\n",
    "    'Name' : ['Ana','Paul','Marc','Ali'] \n",
    "})"
   ]
  },
  {
   "cell_type": "code",
   "execution_count": 39,
   "id": "ccc31fb6",
   "metadata": {},
   "outputs": [
    {
     "name": "stdout",
     "output_type": "stream",
     "text": [
      "   id  Name\n",
      "0   1     1\n",
      "1   2     3\n",
      "2   3     2\n",
      "3   4     0\n"
     ]
    },
    {
     "name": "stderr",
     "output_type": "stream",
     "text": [
      "/usr/local/lib/python3.9/site-packages/sklearn/preprocessing/_label.py:115: DataConversionWarning: A column-vector y was passed when a 1d array was expected. Please change the shape of y to (n_samples, ), for example using ravel().\n",
      "  y = column_or_1d(y, warn=True)\n"
     ]
    }
   ],
   "source": [
    "encoders = [([\"Name\"], LabelEncoder())]\n",
    "mapper = DataFrameMapper(encoders, df_out=True)\n",
    "label_col = mapper.fit_transform(df.copy())\n",
    "df_3 = pd.concat([df.drop(columns=[\"Name\"]), label_col], axis=\"columns\")\n",
    "print (df_3)"
   ]
  },
  {
   "cell_type": "code",
   "execution_count": null,
   "id": "b299e402",
   "metadata": {},
   "outputs": [],
   "source": []
  }
 ],
 "metadata": {
  "kernelspec": {
   "display_name": "Python 3 (ipykernel)",
   "language": "python",
   "name": "python3"
  },
  "language_info": {
   "codemirror_mode": {
    "name": "ipython",
    "version": 3
   },
   "file_extension": ".py",
   "mimetype": "text/x-python",
   "name": "python",
   "nbconvert_exporter": "python",
   "pygments_lexer": "ipython3",
   "version": "3.9.7"
  }
 },
 "nbformat": 4,
 "nbformat_minor": 5
}
